{
 "cells": [
  {
   "cell_type": "markdown",
   "metadata": {},
   "source": []
  },
  {
   "cell_type": "code",
   "execution_count": 4,
   "metadata": {},
   "outputs": [
    {
     "ename": "TypeError",
     "evalue": "update_line() missing 1 required positional argument: 'line'",
     "output_type": "error",
     "traceback": [
      "\u001b[0;31m---------------------------------------------------------------------------\u001b[0m",
      "\u001b[0;31mTypeError\u001b[0m                                 Traceback (most recent call last)",
      "\u001b[0;32m<ipython-input-4-bd1ad5a42afa>\u001b[0m in \u001b[0;36m<module>\u001b[0;34m()\u001b[0m\n\u001b[1;32m     15\u001b[0m \u001b[0mplt\u001b[0m\u001b[0;34m.\u001b[0m\u001b[0mxlabel\u001b[0m\u001b[0;34m(\u001b[0m\u001b[0;34m'x'\u001b[0m\u001b[0;34m)\u001b[0m\u001b[0;34m\u001b[0m\u001b[0m\n\u001b[1;32m     16\u001b[0m \u001b[0mplt\u001b[0m\u001b[0;34m.\u001b[0m\u001b[0mtitle\u001b[0m\u001b[0;34m(\u001b[0m\u001b[0;34m'test'\u001b[0m\u001b[0;34m)\u001b[0m\u001b[0;34m\u001b[0m\u001b[0m\n\u001b[0;32m---> 17\u001b[0;31m \u001b[0mupdate_line\u001b[0m\u001b[0;34m(\u001b[0m\u001b[0mdata\u001b[0m\u001b[0;34m,\u001b[0m \u001b[0ml\u001b[0m\u001b[0;34m)\u001b[0m\u001b[0;34m\u001b[0m\u001b[0m\n\u001b[0m\u001b[1;32m     18\u001b[0m \u001b[0mplt\u001b[0m\u001b[0;34m.\u001b[0m\u001b[0mshow\u001b[0m\u001b[0;34m(\u001b[0m\u001b[0;34m)\u001b[0m\u001b[0;34m\u001b[0m\u001b[0m\n",
      "\u001b[0;31mTypeError\u001b[0m: update_line() missing 1 required positional argument: 'line'"
     ]
    }
   ],
   "source": [
    "import numpy as np\n",
    "import matplotlib.pyplot as plt\n",
    "import matplotlib.animation as animation\n",
    "\n",
    "def update_line(num, data, line):\n",
    "    line.set_data(data[...,:num])\n",
    "    return line,\n",
    "\n",
    "fig1 = plt.figure()\n",
    "\n",
    "data = np.random.rand(2, 25)\n",
    "l, = plt.plot([], [], 'r-')\n",
    "plt.xlim(0, 1)\n",
    "plt.ylim(0, 1)\n",
    "plt.xlabel('x')\n",
    "plt.title('test')\n",
    "\n",
    "plt.show()"
   ]
  },
  {
   "cell_type": "code",
   "execution_count": 14,
   "metadata": {},
   "outputs": [
    {
     "name": "stdout",
     "output_type": "stream",
     "text": [
      "[[ 0.58689017  0.25908531  0.06748504  0.44273844  0.95323444  0.81929613\n",
      "   0.21164195  0.34117364  0.92579963  0.66660516  0.15573255  0.05760819\n",
      "   0.14296249  0.10936479  0.48006713  0.56894762  0.6346861   0.09971591\n",
      "   0.09297501  0.97350523  0.41145461  0.85478198  0.02041187  0.71603022\n",
      "   0.86583647]\n",
      " [ 0.67683744  0.31842726  0.58336072  0.5613191   0.80199716  0.96257788\n",
      "   0.86538424  0.82554661  0.51818321  0.42324441  0.28264091  0.50344411\n",
      "   0.35803979  0.11810731  0.47377103  0.44104714  0.64345566  0.00314399\n",
      "   0.95133222  0.5289732   0.45074815  0.09120474  0.59229358  0.57265401\n",
      "   0.83346881]]\n"
     ]
    }
   ],
   "source": [
    "data = np.random.rand(2, 25)\n",
    "print(data[:,:])"
   ]
  },
  {
   "cell_type": "code",
   "execution_count": 27,
   "metadata": {},
   "outputs": [
    {
     "name": "stdout",
     "output_type": "stream",
     "text": [
      "[[3 6 6 3 3]\n",
      " [1 1 4 4 1]]\n"
     ]
    }
   ],
   "source": [
    "elevator = np.array([[1, 4, 4, 1, 1],[1, 1, 4, 4, 1]])\n",
    "elevator[0] += 2\n",
    "print(elevator)"
   ]
  },
  {
   "cell_type": "code",
   "execution_count": 265,
   "metadata": {},
   "outputs": [
    {
     "data": {
      "image/png": "[encoded data removed]",
      "text/plain": [
       "<matplotlib.figure.Figure at 0x7fbf782056d8>"
      ]
     },
     "metadata": {},
     "output_type": "display_data"
    },
    {
     "name": "stdout",
     "output_type": "stream",
     "text": [
      "[[ -4.39403050e-04  -8.78227560e-02]\n",
      " [ -1.75525021e-03  -1.75286173e-01]\n",
      " [ -3.94390435e-03  -2.62382941e-01]\n",
      " [ -7.00166289e-03  -3.49105833e-01]\n",
      " [ -1.09247511e-02  -4.35447685e-01]\n",
      " [ -1.57093230e-02  -5.21401402e-01]\n",
      " [ -2.13514619e-02  -6.06959956e-01]\n",
      " [ -2.78471815e-02  -6.92116384e-01]\n",
      " [ -3.51924261e-02  -7.76863794e-01]\n",
      " [ -4.33830612e-02  -8.61195344e-01]\n",
      " [ -5.24149347e-02  -9.45104348e-01]\n",
      " [ -6.22837357e-02  -1.02858403e+00]\n",
      " [ -7.29851597e-02  -1.11162781e+00]\n",
      " [ -8.45148157e-02  -1.19422914e+00]\n",
      " [ -9.68682467e-02  -1.27638153e+00]\n",
      " [ -1.10040932e-01  -1.35807859e+00]\n",
      " [ -1.24028282e-01  -1.43931398e+00]\n",
      " [ -1.38825652e-01  -1.52008144e+00]\n",
      " [ -1.54428322e-01  -1.60037475e+00]\n",
      " [ -1.70831562e-01  -1.68018786e+00]]\n",
      "Length of state 90\n",
      "356\n"
     ]
    }
   ],
   "source": [
    "# Physics\n",
    "import numpy as np\n",
    "from scipy.integrate import odeint\n",
    "import matplotlib.pyplot as plt\n",
    "\n",
    "class Pid:\n",
    "    def __init__(self):\n",
    "        self.int = 0\n",
    "        \n",
    "\n",
    "    def PidController(self, x, r = 1):\n",
    "        error = r - x\n",
    "        self.int += 1\n",
    "        output = error\n",
    "        return output*100\n",
    "\n",
    "pid = Pid()\n",
    "def ElevatorPhysics(state, t):\n",
    "    # State vector.\n",
    "    x = state[0]\n",
    "    x_dot = state[1]\n",
    "\n",
    "    # Mass of elevator in kg.\n",
    "    m = 100.0\n",
    "    # Acceleration of gravity.\n",
    "    g = -9.8\n",
    "    \n",
    "    F = pid.PidController(x)\n",
    "\n",
    "    x_dot_dot = g + F/m - x_dot*0.4\n",
    "\n",
    "    # Output state derivatives.\n",
    "    return [x_dot, x_dot_dot]\n",
    "\n",
    "\n",
    "state_initial = [0.0, 0.0]\n",
    "last_time = 0.0\n",
    "increment = 0.01\n",
    "step_time = 0.1\n",
    "total_state = np.array([[0,0]])\n",
    "total_state = np.delete(total_state, 0, axis=0)\n",
    "total_time = np.array([0])\n",
    "total_time = np.delete(total_time, 0, axis=0)\n",
    "\n",
    "for time in np.arange(step_time,1+step_time, step_time):\n",
    "    t = np.arange(last_time, time-0.005, increment) # 0.005 is to avoid floating point rounding\n",
    "    state = odeint(ElevatorPhysics, state_initial, t)\n",
    "    state_initial = state[-1]\n",
    "    \n",
    "    total_time = np.append(total_time, t[1:])\n",
    "    total_state = np.append(total_state, state[1:], axis=0)\n",
    "    last_time = time\n",
    "    \n",
    "plt.plot(total_time,total_state)\n",
    "plt.show()\n",
    "print(total_state[0:20])\n",
    "print('Length of state',len(total_state))\n",
    "print(pid.int)"
   ]
  },
  {
   "cell_type": "code",
   "execution_count": 283,
   "metadata": {},
   "outputs": [
    {
     "name": "stdout",
     "output_type": "stream",
     "text": [
      "110\n",
      "[[  0.00000000e+00   0.00000000e+00]\n",
      " [ -4.39403050e-04  -8.78227560e-02]\n",
      " [ -1.75525021e-03  -1.75286173e-01]\n",
      " [ -3.94390435e-03  -2.62382941e-01]\n",
      " [ -7.00166289e-03  -3.49105833e-01]\n",
      " [ -1.09247511e-02  -4.35447685e-01]\n",
      " [ -1.57093230e-02  -5.21401402e-01]\n",
      " [ -2.13514619e-02  -6.06959956e-01]\n",
      " [ -2.78471815e-02  -6.92116384e-01]\n",
      " [ -3.51924261e-02  -7.76863794e-01]\n",
      " [ -4.33830712e-02  -8.61195361e-01]\n",
      " [ -5.24149246e-02  -9.45104329e-01]\n",
      " [ -6.22837268e-02  -1.02858401e+00]\n",
      " [ -7.29851518e-02  -1.11162779e+00]\n",
      " [ -8.45148078e-02  -1.19422911e+00]\n",
      " [ -9.68682377e-02  -1.27638151e+00]\n",
      " [ -1.10040920e-01  -1.35807857e+00]\n",
      " [ -1.24028270e-01  -1.43931396e+00]\n",
      " [ -1.38825640e-01  -1.52008142e+00]\n",
      " [ -1.54428318e-01  -1.60037475e+00]]\n",
      "\n",
      "[[-3.5642971  -6.10614281]\n",
      " [-3.62549699 -6.13371412]\n",
      " [-3.68696897 -6.16056322]\n",
      " [-3.74870584 -6.18669031]\n",
      " [-3.81070037 -6.21209568]\n",
      " [-3.87294535 -6.23677967]\n",
      " [-3.93543356 -6.26074269]\n",
      " [-3.9981578  -6.28398523]\n",
      " [-4.06111086 -6.30650785]]\n"
     ]
    },
    {
     "data": {
      "image/png": "[encoded data removed]",
      "text/plain": [
       "<matplotlib.figure.Figure at 0x7fbf781a27b8>"
      ]
     },
     "metadata": {},
     "output_type": "display_data"
    }
   ],
   "source": [
    "state_initial = [0.0, 0.0]\n",
    "t = np.arange(0, 1.1, 0.01)\n",
    "state = odeint(ElevatorPhysics, state_initial, t)\n",
    "print(len(state))\n",
    "print(state[0:20])\n",
    "print('')\n",
    "print(state[-10:-1])\n",
    "\n",
    "plt.plot(t,state)\n",
    "plt.plot(total_time, total_state)\n",
    "plt.show()"
   ]
  },
  {
   "cell_type": "code",
   "execution_count": 282,
   "metadata": {},
   "outputs": [
    {
     "data": {
      "image/png": "[encoded data removed]",
      "text/plain": [
       "<matplotlib.figure.Figure at 0x7fbf784f1240>"
      ]
     },
     "metadata": {},
     "output_type": "display_data"
    }
   ],
   "source": [
    "from scipy.integrate import ode\n",
    "\n",
    "pid = Pid()\n",
    "def ElevatorPhysics2(t, state):\n",
    "    # State vector.\n",
    "    x = state[0]\n",
    "    x_dot = state[1]\n",
    "\n",
    "    # Mass of elevator in kg.\n",
    "    m = 100.0\n",
    "    # Acceleration of gravity.\n",
    "    g = -9.8\n",
    "    \n",
    "    F = pid.PidController(x)\n",
    "\n",
    "    x_dot_dot = g + F/m - x_dot*0.4\n",
    "\n",
    "    # Output state derivatives.\n",
    "    return [x_dot, x_dot_dot]\n",
    "\n",
    "solver = ode(ElevatorPhysics2)\n",
    "solver.set_integrator('dop853')\n",
    "\n",
    "# Give the value of omega to the solver. This is passed to\n",
    "# `fun` when the solver calls it.\n",
    "#omega = 2 * np.pi\n",
    "#solver.set_f_params(omega)\n",
    "\n",
    "# Set the initial value z(0) = z0.\n",
    "t0 = 0.0\n",
    "state_initial = [0.0, 0.0]\n",
    "solver.set_initial_value(state_initial, t0)\n",
    "\n",
    "# Create the array `t` of time values at which to compute\n",
    "# the solution, and create an array to hold the solution.\n",
    "# Put the initial value in the solution array.\n",
    "t1 = 1.1 - 0.01\n",
    "sol = np.zeros((int(1.1/0.01), 2))\n",
    "sol[0] = state_initial\n",
    "\n",
    "# Repeatedly call the `integrate` method to advance the\n",
    "# solution to time t[k], and save the solution in sol[k].\n",
    "k = 1\n",
    "while solver.successful() and solver.t < t1:\n",
    "    solver.integrate(t[k])\n",
    "    sol[k] = solver.y\n",
    "    k += 1\n",
    "    \n",
    "\n",
    "plt.plot(t, sol)\n",
    "plt.plot(t, state)\n",
    "plt.show()"
   ]
  },
  {
   "cell_type": "code",
   "execution_count": null,
   "metadata": {
    "collapsed": true
   },
   "outputs": [],
   "source": []
  }
 ],
 "metadata": {
  "kernelspec": {
   "display_name": "Python [conda root]",
   "language": "python",
   "name": "conda-root-py"
  },
  "language_info": {
   "codemirror_mode": {
    "name": "ipython",
    "version": 3
   },
   "file_extension": ".py",
   "mimetype": "text/x-python",
   "name": "python",
   "nbconvert_exporter": "python",
   "pygments_lexer": "ipython3",
   "version": "3.6.1"
  }
 },
 "nbformat": 4,
 "nbformat_minor": 2
}
